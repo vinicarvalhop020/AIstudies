{
  "cells": [
    {
      "cell_type": "markdown",
      "metadata": {
        "id": "eeBlhlPU7NCQ"
      },
      "source": [
        "#Importando bibliotecas"
      ]
    },
    {
      "cell_type": "code",
      "execution_count": null,
      "metadata": {
        "id": "2m_qb-I_8ybd"
      },
      "outputs": [],
      "source": [
        "import os\n",
        "import pandas as pd\n",
        "import torch.nn as nn\n",
        "import torch.optim as optim\n",
        "import torchvision.transforms as transforms\n",
        "import torchvision\n",
        "from torch.utils.data import DataLoader\n",
        "from torch.utils.data import Dataset\n",
        "from torchvision.io import read_image\n",
        "import torch\n",
        "from skimage import io\n",
        "import random\n",
        "import torchvision.transforms as T\n",
        "import cv2\n",
        "import matplotlib.pyplot as plt\n",
        "import numpy as np\n",
        "from torchvision import datasets, transforms, models\n",
        "from torchvision.transforms import Compose, Normalize, ToTensor\n",
        "\n",
        "\n",
        "\n"
      ]
    },
    {
      "cell_type": "markdown",
      "metadata": {
        "id": "dnDeauxn9j6R"
      },
      "source": [
        "#Conexao com o Kaggle"
      ]
    },
    {
      "cell_type": "code",
      "execution_count": null,
      "metadata": {
        "id": "ocswAU9B_HIg"
      },
      "outputs": [],
      "source": [
        "from google.colab import files"
      ]
    },
    {
      "cell_type": "code",
      "execution_count": null,
      "metadata": {
        "id": "B7eAF-k-RXHP"
      },
      "outputs": [],
      "source": [
        "#device = torch.device('cuda' if torch.cuda.is_available() else 'cpu' )"
      ]
    },
    {
      "cell_type": "code",
      "execution_count": null,
      "metadata": {
        "id": "tUE_nf3n_d50"
      },
      "outputs": [],
      "source": [
        "pip install kaggle -q"
      ]
    },
    {
      "cell_type": "code",
      "execution_count": null,
      "metadata": {
        "id": "3eDxDTom_nGw"
      },
      "outputs": [],
      "source": [
        "!mkdir -p ~/.kaggle"
      ]
    },
    {
      "cell_type": "code",
      "execution_count": null,
      "metadata": {
        "id": "8z2Qx5vY_x--"
      },
      "outputs": [],
      "source": [
        "!cp kaggle.json ~/.kaggle"
      ]
    },
    {
      "cell_type": "code",
      "execution_count": null,
      "metadata": {
        "id": "zi3U6SLy_4rH"
      },
      "outputs": [],
      "source": [
        "!chmod 600 ~/.kaggle/kaggle.json"
      ]
    },
    {
      "cell_type": "code",
      "execution_count": null,
      "metadata": {
        "id": "zffW7jKNALZr"
      },
      "outputs": [],
      "source": [
        "%cd /content/\n",
        "!kaggle datasets download paultimothymooney/chest-xray-pneumonia"
      ]
    },
    {
      "cell_type": "code",
      "execution_count": null,
      "metadata": {
        "id": "YTmRp8r8A13i"
      },
      "outputs": [],
      "source": [
        "!unzip chest-xray-pneumonia.zip -d XrayPneumonia"
      ]
    },
    {
      "cell_type": "markdown",
      "metadata": {
        "id": "vrtD6bf0QmxE"
      },
      "source": [
        "#Transformando os dados em csv"
      ]
    },
    {
      "cell_type": "code",
      "execution_count": null,
      "metadata": {
        "id": "8gY5mVUSKt6f"
      },
      "outputs": [],
      "source": [
        "import os\n",
        "import csv\n",
        "\n",
        "def criar_csv(diretorio_raiz, pasta):\n",
        "    caminho_pasta = os.path.join(diretorio_raiz, pasta)\n",
        "    dados = []\n",
        "\n",
        "    for classe in os.listdir(caminho_pasta):\n",
        "        caminho_classe = os.path.join(caminho_pasta, classe)\n",
        "        if os.path.isdir(caminho_classe):  # Verifica se é um diretório\n",
        "            for nome_arquivo in os.listdir(caminho_classe):\n",
        "                if nome_arquivo != '.DS_Store':  # Ignora o arquivo .DS_Store\n",
        "                    dados.append((nome_arquivo, classe))\n",
        "\n",
        "    nome_arquivo_csv = f'dados_{pasta}.csv'\n",
        "\n",
        "    with open(nome_arquivo_csv, 'w', newline='') as file:\n",
        "        writer = csv.writer(file)\n",
        "        writer.writerow(['nome_da_imagem', 'Classe'])\n",
        "        writer.writerows(dados)\n",
        "\n",
        "    print(f'Arquivo CSV \"{nome_arquivo_csv}\" criado com sucesso!')\n",
        "\n",
        "diretorio_raiz = '/content/XrayPneumonia/chest_xray/chest_xray'\n",
        "pastas = ['train', 'test','val']\n",
        "\n",
        "for pasta in pastas:\n",
        "    criar_csv(diretorio_raiz, pasta)\n",
        "\n"
      ]
    },
    {
      "cell_type": "markdown",
      "metadata": {
        "id": "btFCm6fvT7NV"
      },
      "source": [
        "#Transformando dados em dataframe"
      ]
    },
    {
      "cell_type": "code",
      "execution_count": null,
      "metadata": {
        "id": "oficf3kES-os"
      },
      "outputs": [],
      "source": [
        "Train_data = pd.read_csv('/content/dados_train.csv')\n",
        "Test_data = pd.read_csv('/content/dados_test.csv')\n",
        "Val_data = pd.read_csv('/content/dados_val.csv')\n",
        "\n",
        "data = [Train_data,Test_data,Val_data]\n",
        "\n",
        "issue = {'NORMAL':0, 'PNEUMONIA':1}\n",
        "\n",
        "#substituindo para valor\n",
        "for classes in data:\n",
        "  classes['Classe'] = classes['Classe'].map(issue)\n",
        "\n",
        "Train_data['nome_da_imagem']\n",
        "\n",
        "\n",
        "#Testando a imagem\n",
        "resultado = Train_data[Train_data['nome_da_imagem'] == 'person368_virus_748.jpeg']\n",
        "\n",
        "print(resultado)\n",
        "\n",
        "img = cv2.imread('/content/XrayPneumonia/chest_xray/chest_xray/train/PNEUMONIA/person1799_bacteria_4647.jpeg')\n",
        "plt.imshow(img)\n"
      ]
    },
    {
      "cell_type": "markdown",
      "metadata": {
        "id": "QCaVeLnNUA10"
      },
      "source": [
        "#Configurando Dataloader para o pythorch\n",
        "\n"
      ]
    },
    {
      "cell_type": "code",
      "execution_count": null,
      "metadata": {
        "id": "ENgVnTu97NpP"
      },
      "outputs": [],
      "source": [
        "import os\n",
        "from PIL import Image\n",
        "\n",
        "\n",
        "class XrayPneumonia(Dataset):\n",
        "    def __init__(self, annotations_file_Dataframe, img_dirs, transform=None, target_transform=None):\n",
        "        self.img_labels = annotations_file_Dataframe\n",
        "        self.img_dirs = img_dirs  # Inicialmente, temos apenas um diretório\n",
        "        self.transform = transform\n",
        "        self.target_transform = target_transform\n",
        "\n",
        "    def __len__(self):\n",
        "        return len(self.img_labels)\n",
        "\n",
        "    def __getitem__(self, idx):\n",
        "        for img_dir in self.img_dirs:\n",
        "            img_path = os.path.join(img_dir, self.img_labels.iloc[idx, 0])\n",
        "            if os.path.exists(img_path):\n",
        "                image = Image.open(img_path).convert(\"RGB\")  # Forçar a conversão para RGB\n",
        "                label = self.img_labels.iloc[idx, 1]\n",
        "                if self.transform:\n",
        "                    image = self.transform(image)\n",
        "                if self.target_transform:\n",
        "                    label = self.target_transform(label)\n",
        "                return image, label\n",
        "\n",
        "\n"
      ]
    },
    {
      "cell_type": "markdown",
      "metadata": {
        "id": "yT54DTAtge5z"
      },
      "source": [
        "#Criando os dataloaders"
      ]
    },
    {
      "cell_type": "code",
      "execution_count": null,
      "metadata": {
        "id": "xkVSOMRn7mRD"
      },
      "outputs": [],
      "source": [
        "from torch.utils.data import DataLoader\n",
        "from torchvision import transforms\n",
        "\n",
        "# Definir o tamanho fixo para as imagens\n",
        "fixed_size = (256, 256)  # Por exemplo, 224x224 pixels\n",
        "\n",
        "# Definir transformações para redimensionar as imagens\n",
        "transform = transforms.Compose([\n",
        "    transforms.Resize(fixed_size),\n",
        "    transforms.ToTensor()  # Converte a imagem para tensor\n",
        "])\n",
        "\n",
        "# Aplicar transformações aos conjuntos de dados\n",
        "train_data = XrayPneumonia(Train_data, ['/content/XrayPneumonia/chest_xray/chest_xray/train/NORMAL','/content/XrayPneumonia/chest_xray/chest_xray/train/PNEUMONIA'], transform=transform)\n",
        "test_data = XrayPneumonia(Test_data,  ['/content/XrayPneumonia/chest_xray/chest_xray/test/NORMAL','/content/XrayPneumonia/chest_xray/chest_xray/test/PNEUMONIA'], transform=transform)\n",
        "val_data = XrayPneumonia(Val_data,  ['/content/XrayPneumonia/chest_xray/chest_xray/val/NORMAL','/content/XrayPneumonia/chest_xray/chest_xray/val/PNEUMONIA'], transform=transform)\n",
        "\n",
        "\n",
        "# Criar os DataLoader com os conjuntos de dados transformados\n",
        "dataloaders = {\n",
        "    'train': DataLoader(train_data, batch_size=4, shuffle=True, num_workers=2),\n",
        "    'test': DataLoader(test_data, batch_size=4, shuffle=True, num_workers=2)\n",
        "}\n",
        "\n",
        "\n",
        "# Tamanhos dos conjuntos de dados\n",
        "dataset_sizes = {\n",
        "    'train': len(train_data),\n",
        "    'test': len(test_data)\n",
        "}\n"
      ]
    },
    {
      "cell_type": "markdown",
      "metadata": {
        "id": "NNcIvgH95ZDB"
      },
      "source": [
        "#Congelando as camadas para transferlearning"
      ]
    },
    {
      "cell_type": "code",
      "execution_count": null,
      "metadata": {
        "id": "plmE3eKJ-0X3"
      },
      "outputs": [],
      "source": [
        "# Load the pre-trained ResNet-18 model\n",
        "model = models.resnet18(pretrained=True)\n",
        "\n",
        "# Freeze all layers except the final classification layer\n",
        "for name, param in model.named_parameters():\n",
        "    if \"fc\" in name:  # Unfreeze the final classification layer\n",
        "        param.requires_grad = True\n",
        "    else:\n",
        "        param.requires_grad = False\n",
        "\n",
        "# Define the loss function and optimizer\n",
        "criterion = nn.CrossEntropyLoss()\n",
        "optimizer = optim.SGD(model.parameters(), lr=0.001, momentum=0.9)  # Use all parameters\n",
        "\n",
        "\n",
        "# Move the model to the GPU if available\n",
        "device = torch.device(\"cuda:0\" if torch.cuda.is_available() else \"cpu\")\n",
        "model = model.to(device)"
      ]
    },
    {
      "cell_type": "markdown",
      "metadata": {
        "id": "XM8Ocae35pPf"
      },
      "source": [
        "#Treinando a Rede"
      ]
    },
    {
      "cell_type": "code",
      "execution_count": null,
      "metadata": {
        "id": "vE8zGn_3_kFh"
      },
      "outputs": [],
      "source": [
        "\n",
        "# Training loop\n",
        "num_epochs = 10\n",
        "for epoch in range(num_epochs):\n",
        "    for phase in ['train', 'test']:\n",
        "        if phase == 'train':\n",
        "            model.train()\n",
        "        else:\n",
        "            model.eval()\n",
        "\n",
        "        running_loss = 0.0\n",
        "        running_corrects = 0\n",
        "\n",
        "        for inputs, labels in dataloaders[phase]:\n",
        "            inputs = inputs.to(device)\n",
        "            labels = labels.to(device)\n",
        "\n",
        "            optimizer.zero_grad()\n",
        "\n",
        "            with torch.set_grad_enabled(phase == 'train'):\n",
        "                outputs = model(inputs)\n",
        "                _, preds = torch.max(outputs, 1)\n",
        "                loss = criterion(outputs, labels)\n",
        "\n",
        "                if phase == 'train':\n",
        "                    loss.backward()\n",
        "                    optimizer.step()\n",
        "\n",
        "            running_loss += loss.item() * inputs.size(0)\n",
        "            running_corrects += torch.sum(preds == labels.data)\n",
        "\n",
        "        epoch_loss = running_loss / dataset_sizes[phase]\n",
        "        epoch_acc = running_corrects.double() / dataset_sizes[phase]\n",
        "\n",
        "        print(f'{phase} Loss: {epoch_loss:.4f} Acc: {epoch_acc:.4f}')\n",
        "\n",
        "print(\"Training complete!\")\n",
        "\n",
        "\n",
        "\n"
      ]
    },
    {
      "cell_type": "code",
      "execution_count": null,
      "metadata": {
        "id": "REBRsvgbwrME"
      },
      "outputs": [],
      "source": [
        "from google.colab import drive\n",
        "drive.mount('/content/drive')"
      ]
    },
    {
      "cell_type": "markdown",
      "metadata": {
        "id": "fqjvxwr7OoJ4"
      },
      "source": [
        "#Testing the model with an unsee image"
      ]
    },
    {
      "cell_type": "code",
      "execution_count": null,
      "metadata": {
        "id": "m9DKCKooPoOg"
      },
      "outputs": [],
      "source": [
        "# Save the model\n",
        "torch.save(model.state_dict(), 'IdentifyPneumonia.pth')"
      ]
    },
    {
      "cell_type": "code",
      "execution_count": null,
      "metadata": {
        "id": "LUDxdEoCOXii"
      },
      "outputs": [],
      "source": [
        "import torch\n",
        "from torchvision import models, transforms\n",
        "from PIL import Image\n",
        "\n",
        "# Load the saved model\n",
        "model = models.resnet18(pretrained=True)\n",
        "model.fc = nn.Linear(model.fc.in_features, 1000)  # Adjust to match the original model's output units\n",
        "model.load_state_dict(torch.load('IdentifyPneumonia.pth'))\n",
        "model.eval()\n",
        "\n",
        "# Create a new model with the correct final layer\n",
        "new_model = models.resnet18(pretrained=True)\n",
        "new_model.fc = nn.Linear(new_model.fc.in_features, 2)  # Adjust to match the desired output units\n",
        "\n",
        "# Copy the weights and biases from the loaded model to the new model\n",
        "new_model.fc.weight.data = model.fc.weight.data[0:2]  # Copy only the first 2 output units\n",
        "new_model.fc.bias.data = model.fc.bias.data[0:2]"
      ]
    },
    {
      "cell_type": "code",
      "execution_count": null,
      "metadata": {
        "id": "AVG0X-pPOhz_"
      },
      "outputs": [],
      "source": [
        "# Load and preprocess the unseen image\n",
        "image_path = '/content/XrayPneumonia/chest_xray/val/PNEUMONIA/person1947_bacteria_4876.jpeg'  # Replace with the path to your image\n",
        "image = Image.open(image_path).convert('L')\n",
        "image = image.convert('RGB')\n",
        "fixed_size = (256, 256)  # Por exemplo, 224x224 pixels\n",
        "\n",
        "# Definir transformações para redimensionar as imagens\n",
        "transform = transforms.Compose([\n",
        "    transforms.Resize(fixed_size),\n",
        "    transforms.ToTensor()  # Converte a imagem para tensor\n",
        "])\n",
        "\n",
        "input_tensor = transform(image)\n",
        "input_batch = input_tensor.unsqueeze(0)  # Add a batch dimension"
      ]
    },
    {
      "cell_type": "code",
      "execution_count": null,
      "metadata": {
        "id": "zAIDX6GYOkN4"
      },
      "outputs": [],
      "source": [
        "# Perform inference\n",
        "with torch.no_grad():\n",
        "    output = model(input_batch)\n",
        "\n",
        "# Get the predicted class\n",
        "_, predicted_class = output.max(1)\n",
        "\n",
        "# Map the predicted class to the class name\n",
        "class_names = [0, 1]  # Make sure these class names match your training data\n",
        "predicted_class_name = class_names[predicted_class.item()]\n",
        "\n",
        "map = {\n",
        "    0: 'NORMAL',\n",
        "    1: 'PNEUMONIA'\n",
        "}\n",
        "\n",
        "print(f'The predicted class is: {map[predicted_class_name]}')"
      ]
    },
    {
      "cell_type": "code",
      "execution_count": null,
      "metadata": {
        "id": "HT05N1TeOl4X"
      },
      "outputs": [],
      "source": [
        "import numpy as np\n",
        "import matplotlib.pyplot as plt\n",
        "from PIL import Image\n",
        "\n",
        "# Display the image with the predicted class name\n",
        "image = np.array(image)\n",
        "plt.imshow(image)\n",
        "plt.axis('off')\n",
        "plt.text(10, 10, f'Predicted: {map[predicted_class_name]}', fontsize=12, color='white', backgroundcolor='red')\n",
        "plt.show()"
      ]
    },
    {
      "cell_type": "markdown",
      "metadata": {
        "id": "ssT5PjID1KH6"
      },
      "source": [
        "#Confusion matrix"
      ]
    },
    {
      "cell_type": "markdown",
      "metadata": {
        "id": "itJmEfUQ7FfN"
      },
      "source": [
        "Funcao que recebe imagem e o modelo, e retorna a previsao\n"
      ]
    },
    {
      "cell_type": "code",
      "execution_count": null,
      "metadata": {
        "id": "6vptW4RauH1W"
      },
      "outputs": [],
      "source": [
        "\n",
        "def passa_pela_rede(image_path,model):\n",
        "  image = Image.open(image_path).convert('L')\n",
        "  image = image.convert('RGB')\n",
        "  fixed_size = (256, 256)  # Por exemplo, 224x224 pixels\n",
        "\n",
        "  # Definir transformações para redimensionar as imagens\n",
        "  transform = transforms.Compose([\n",
        "      transforms.Resize(fixed_size),\n",
        "      transforms.ToTensor()  # Converte a imagem para tensor\n",
        "  ])\n",
        "\n",
        "  input_tensor = transform(image)\n",
        "  input_batch = input_tensor.unsqueeze(0)  # Add a batch dimension\n",
        "\n",
        "    # Perform inference\n",
        "  with torch.no_grad():\n",
        "      output = model(input_batch)\n",
        "\n",
        "  # Get the predicted class\n",
        "  _, predicted_class = output.max(1)\n",
        "\n",
        "\n",
        "  # Map the predicted class to the class name\n",
        "  class_names = [0, 1]  # Make sure these class names match your training data\n",
        "  predicted_class_name = class_names[predicted_class.item()]\n",
        "\n",
        "  map = {\n",
        "      0: 'NORMAL',\n",
        "      1: 'PNEUMONIA'\n",
        "  }\n",
        "\n",
        "  return map[predicted_class_name]\n",
        "\n"
      ]
    },
    {
      "cell_type": "markdown",
      "metadata": {
        "id": "b5T0SjN27TrQ"
      },
      "source": [
        "Carregando o modelo pré treinado"
      ]
    },
    {
      "cell_type": "code",
      "execution_count": null,
      "metadata": {
        "id": "igctGAXai73P"
      },
      "outputs": [],
      "source": [
        "# Load the saved model\n",
        "model = models.resnet18(pretrained=True)\n",
        "model.fc = nn.Linear(model.fc.in_features, 1000)  # Adjust to match the original model's output units\n",
        "model.load_state_dict(torch.load('IdentifyPneumonia.pth'))\n",
        "model.eval()\n",
        "\n",
        "# Create a new model with the correct final layer\n",
        "new_model = models.resnet18(pretrained=True)\n",
        "new_model.fc = nn.Linear(new_model.fc.in_features, 2)  # Adjust to match the desired output units\n",
        "\n",
        "# Copy the weights and biases from the loaded model to the new model\n",
        "new_model.fc.weight.data = model.fc.weight.data[0:2]  # Copy only the first 2 output units\n",
        "new_model.fc.bias.data = model.fc.bias.data[0:2]"
      ]
    },
    {
      "cell_type": "markdown",
      "metadata": {
        "id": "txCyB9zg69ob"
      },
      "source": [
        "Criando as listas de previsoes e a verdadeira"
      ]
    },
    {
      "cell_type": "code",
      "execution_count": null,
      "metadata": {
        "id": "v6rcK5B0uW1N"
      },
      "outputs": [],
      "source": [
        "img_dirs = ['/content/XrayPneumonia/chest_xray/chest_xray/val/NORMAL','/content/XrayPneumonia/chest_xray/chest_xray/val/PNEUMONIA']\n",
        "\n",
        "\n",
        "predict_list = [] #lista das previsoes\n",
        "true_list = [] #lista das verdadeiras\n",
        "\n",
        "for img_dir in img_dirs: #le cada diretorio\n",
        "  for idx in range(len(Val_data)):\n",
        "    img_path = os.path.join(img_dir, Val_data.iloc[idx, 0]) #cria o image_path\n",
        "\n",
        "    if os.path.exists(img_path): #verifica se o img path existe\n",
        "\n",
        "      true_list.append(Val_data.iloc[idx, 1]) # adicona o a classe verdadeira na true list\n",
        "      predict = passa_pela_rede(img_path, model) #faz a previsao utilizando o modelo\n",
        "      predict_list.append(predict) #adciona na lista de predicts\n",
        "\n",
        "\n",
        "\n"
      ]
    },
    {
      "cell_type": "code",
      "execution_count": null,
      "metadata": {
        "colab": {
          "base_uri": "https://localhost:8080/",
          "height": 605
        },
        "id": "lzXQtkdV1UOJ",
        "outputId": "1a034b48-4d32-43d4-c80f-4e72f7957ef8"
      },
      "outputs": [
        {
          "data": {
            "image/png": "[encoded data removed]",
            "text/plain": [
              "<Figure size 1200x700 with 2 Axes>"
            ]
          },
          "metadata": {},
          "output_type": "display_data"
        }
      ],
      "source": [
        "from sklearn.metrics import confusion_matrix\n",
        "import seaborn as sn\n",
        "import pandas as pd\n",
        "\n",
        "classes = ['NORMAL', 'PNEUMONIA']\n",
        "\n",
        "\n",
        "cf_matrix = confusion_matrix(true_list, predict_list)\n",
        "df_cm = pd.DataFrame(cf_matrix, index = [i for i in classes],\n",
        "                     columns = [i for i in classes])\n",
        "plt.figure(figsize = (12,7))\n",
        "sn.heatmap(df_cm, annot=True)\n",
        "plt.savefig('output.png')\n"
      ]
    },
    {
      "cell_type": "code",
      "execution_count": null,
      "metadata": {
        "colab": {
          "base_uri": "https://localhost:8080/"
        },
        "id": "JY8Qyv9n4pLK",
        "outputId": "3f7dc8d2-ebf0-49b9-be6b-f07bb5ac9e0e"
      },
      "outputs": [
        {
          "data": {
            "text/plain": [
              "0.8125"
            ]
          },
          "execution_count": 190,
          "metadata": {},
          "output_type": "execute_result"
        }
      ],
      "source": [
        "from sklearn.metrics import accuracy_score, classification_report\n",
        "accuracy_score(true_list, predict_list)"
      ]
    },
    {
      "cell_type": "code",
      "execution_count": null,
      "metadata": {
        "colab": {
          "base_uri": "https://localhost:8080/"
        },
        "id": "DrWh3W965RHw",
        "outputId": "4bda1a8c-342c-4f0a-fc2a-3e18b6b6fdd1"
      },
      "outputs": [
        {
          "name": "stdout",
          "output_type": "stream",
          "text": [
            "              precision    recall  f1-score   support\n",
            "\n",
            "      NORMAL       1.00      0.62      0.77         8\n",
            "   PNEUMONIA       0.73      1.00      0.84         8\n",
            "\n",
            "    accuracy                           0.81        16\n",
            "   macro avg       0.86      0.81      0.81        16\n",
            "weighted avg       0.86      0.81      0.81        16\n",
            "\n"
          ]
        }
      ],
      "source": [
        "print(classification_report(true_list, predict_list))"
      ]
    },
    {
      "cell_type": "markdown",
      "metadata": {
        "id": "JhmPDu0m6NZ7"
      },
      "source": [
        "#Conclusao"
      ]
    },
    {
      "cell_type": "markdown",
      "metadata": {
        "id": "ElNB_0zg6P1S"
      },
      "source": [
        "O modelo acerta de maneira interessante quando a imagem se trata de PNEUMONIA, logo quando é dado que é pneumonia há uma grande probabilidade de ser de fato PNEUMONIA. Porém quando é um pulmão nomal o modelo obteve apensa 0.62 de recall,logo um pulmão com pneumonia pode ser classificado como um pulmão normal\n",
        "\n",
        "\n"
      ]
    },
    {
      "cell_type": "markdown",
      "metadata": {
        "id": "e_m9cR6v63Sb"
      },
      "source": [
        "#Funcoes uteis"
      ]
    },
    {
      "cell_type": "code",
      "execution_count": null,
      "metadata": {
        "id": "nxHMRG0Z3X9Z"
      },
      "outputs": [],
      "source": [
        "def imprime_torchimg(image,label):\n",
        "  image = image.permute(1, 2, 0)\n",
        "  image = np.array(image)\n",
        "  plt.imshow(image)\n",
        "  plt.axis('off')\n",
        "  plt.text(10, 10, f'Predicted: {label}', fontsize=12, color='white', backgroundcolor='red')\n",
        "  plt.show()\n",
        "\n",
        "y_pred = []\n",
        "y_true = []\n",
        "\n",
        "map = {\n",
        "    0: 'NORMAL',\n",
        "    1: 'PNEUMONIA'\n",
        "}\n"
      ]
    }
  ],
  "metadata": {
    "colab": {
      "collapsed_sections": [
        "vrtD6bf0QmxE",
        "btFCm6fvT7NV",
        "NNcIvgH95ZDB",
        "XM8Ocae35pPf"
      ],
      "provenance": []
    },
    "kernelspec": {
      "display_name": "Python 3",
      "name": "python3"
    },
    "language_info": {
      "name": "python"
    }
  },
  "nbformat": 4,
  "nbformat_minor": 0
}
